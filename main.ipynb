{
 "cells": [
  {
   "cell_type": "code",
   "execution_count": 3,
   "id": "bac0041d",
   "metadata": {},
   "outputs": [
    {
     "name": "stdout",
     "output_type": "stream",
     "text": [
      "--- 1. Loading the White Wine Dataset ---\n",
      "Data successfully loaded.\n"
     ]
    }
   ],
   "source": [
    "import pandas as pd\n",
    "import matplotlib.pyplot as plt\n",
    "import seaborn as sns\n",
    "\n",
    "\n",
    "# --- 1. Data Loading ---\n",
    "print(\"--- 1. Loading the White Wine Dataset ---\")\n",
    "\n",
    "try:\n",
    "    df_white = pd.read_csv('data/winequality-white.csv', sep=';')\n",
    "    print(\"Data successfully loaded.\")\n",
    "except FileNotFoundError:\n",
    "    print(f\"Error: The file 'data/winequality-white.csv' was not found. Please check the file path.\")\n",
    "    exit()\n",
    "\n"
   ]
  },
  {
   "cell_type": "code",
   "execution_count": 8,
   "id": "a9ce1975",
   "metadata": {},
   "outputs": [
    {
     "name": "stdout",
     "output_type": "stream",
     "text": [
      "\n",
      "--- 2. Structural Overview and Data Quality Check ---\n",
      "\n",
      "** First 5 Rows (Head) **\n",
      "   fixed acidity  volatile acidity  citric acid  residual sugar  chlorides  \\\n",
      "0            7.0              0.27         0.36            20.7      0.045   \n",
      "1            6.3              0.30         0.34             1.6      0.049   \n",
      "2            8.1              0.28         0.40             6.9      0.050   \n",
      "3            7.2              0.23         0.32             8.5      0.058   \n",
      "4            7.2              0.23         0.32             8.5      0.058   \n",
      "\n",
      "   free sulfur dioxide  total sulfur dioxide  density    pH  sulphates  \\\n",
      "0                 45.0                 170.0   1.0010  3.00       0.45   \n",
      "1                 14.0                 132.0   0.9940  3.30       0.49   \n",
      "2                 30.0                  97.0   0.9951  3.26       0.44   \n",
      "3                 47.0                 186.0   0.9956  3.19       0.40   \n",
      "4                 47.0                 186.0   0.9956  3.19       0.40   \n",
      "\n",
      "   alcohol  quality  \n",
      "0      8.8        6  \n",
      "1      9.5        6  \n",
      "2     10.1        6  \n",
      "3      9.9        6  \n",
      "4      9.9        6  \n",
      "\n",
      "** Dimensions (Shape) **\n",
      "The dataset contains 4898 rows (instances) and 12 columns (features).\n",
      "\n",
      "** Data Types and Missing Values (Info) **\n",
      "<class 'pandas.core.frame.DataFrame'>\n",
      "RangeIndex: 4898 entries, 0 to 4897\n",
      "Data columns (total 12 columns):\n",
      " #   Column                Non-Null Count  Dtype  \n",
      "---  ------                --------------  -----  \n",
      " 0   fixed acidity         4898 non-null   float64\n",
      " 1   volatile acidity      4898 non-null   float64\n",
      " 2   citric acid           4898 non-null   float64\n",
      " 3   residual sugar        4898 non-null   float64\n",
      " 4   chlorides             4898 non-null   float64\n",
      " 5   free sulfur dioxide   4898 non-null   float64\n",
      " 6   total sulfur dioxide  4898 non-null   float64\n",
      " 7   density               4898 non-null   float64\n",
      " 8   pH                    4898 non-null   float64\n",
      " 9   sulphates             4898 non-null   float64\n",
      " 10  alcohol               4898 non-null   float64\n",
      " 11  quality               4898 non-null   int64  \n",
      "dtypes: float64(11), int64(1)\n",
      "memory usage: 459.3 KB\n"
     ]
    }
   ],
   "source": [
    "# --- 2. Structural Overview and Data Quality Check (Phase 1: EDA) ---\n",
    "print(\"\\n--- 2. Structural Overview and Data Quality Check ---\")\n",
    "\n",
    "print(\"\\n** First 5 Rows (Head) **\")\n",
    "print(df_white.head())\n",
    "\n",
    "print(\"\\n** Dimensions (Shape) **\")\n",
    "print(f\"The dataset contains {df_white.shape[0]} rows (instances) and {df_white.shape[1]} columns (features).\")\n",
    "\n",
    "print(\"\\n** Data Types and Missing Values (Info) **\")\n",
    "df_white.info()\n"
   ]
  },
  {
   "cell_type": "markdown",
   "id": "fdfab12b",
   "metadata": {},
   "source": [
    "There are no missing values in this dataset, so we don't need to do a specific data clean before starting analyzing."
   ]
  },
  {
   "cell_type": "code",
   "execution_count": 11,
   "id": "5ef40d0a",
   "metadata": {},
   "outputs": [
    {
     "name": "stdout",
     "output_type": "stream",
     "text": [
      "\n",
      "--- 3. Basic Descriptive Analysis (Describe) ---\n",
      "                       count        mean        std      min         25%  \\\n",
      "fixed acidity         4898.0    6.854788   0.843868  3.80000    6.300000   \n",
      "volatile acidity      4898.0    0.278241   0.100795  0.08000    0.210000   \n",
      "citric acid           4898.0    0.334192   0.121020  0.00000    0.270000   \n",
      "residual sugar        4898.0    6.391415   5.072058  0.60000    1.700000   \n",
      "chlorides             4898.0    0.045772   0.021848  0.00900    0.036000   \n",
      "free sulfur dioxide   4898.0   35.308085  17.007137  2.00000   23.000000   \n",
      "total sulfur dioxide  4898.0  138.360657  42.498065  9.00000  108.000000   \n",
      "density               4898.0    0.994027   0.002991  0.98711    0.991723   \n",
      "pH                    4898.0    3.188267   0.151001  2.72000    3.090000   \n",
      "sulphates             4898.0    0.489847   0.114126  0.22000    0.410000   \n",
      "alcohol               4898.0   10.514267   1.230621  8.00000    9.500000   \n",
      "quality               4898.0    5.877909   0.885639  3.00000    5.000000   \n",
      "\n",
      "                            50%       75%        max  \n",
      "fixed acidity           6.80000    7.3000   14.20000  \n",
      "volatile acidity        0.26000    0.3200    1.10000  \n",
      "citric acid             0.32000    0.3900    1.66000  \n",
      "residual sugar          5.20000    9.9000   65.80000  \n",
      "chlorides               0.04300    0.0500    0.34600  \n",
      "free sulfur dioxide    34.00000   46.0000  289.00000  \n",
      "total sulfur dioxide  134.00000  167.0000  440.00000  \n",
      "density                 0.99374    0.9961    1.03898  \n",
      "pH                      3.18000    3.2800    3.82000  \n",
      "sulphates               0.47000    0.5500    1.08000  \n",
      "alcohol                10.40000   11.4000   14.20000  \n",
      "quality                 6.00000    6.0000    9.00000  \n"
     ]
    }
   ],
   "source": [
    "# --- 3. Basic Descriptive Analysis ---\n",
    "print(\"\\n--- 3. Basic Descriptive Analysis (Describe) ---\")\n",
    "# Display the transpose for better readability\n",
    "print(df_white.describe().T) \n",
    "\n"
   ]
  },
  {
   "cell_type": "markdown",
   "id": "cb28878a",
   "metadata": {},
   "source": [
    "Quality is therefore a int from 3 to 9 for white wines\n"
   ]
  },
  {
   "cell_type": "code",
   "execution_count": 33,
   "id": "bd1f8e12",
   "metadata": {},
   "outputs": [
    {
     "name": "stdout",
     "output_type": "stream",
     "text": [
      "\n",
      "--- 4. Target Variable ('quality') Distribution Analysis ---\n",
      "\n",
      "** Sample Count per Quality Score **\n",
      "         Sample Count\n",
      "quality              \n",
      "3                  20\n",
      "4                 163\n",
      "5                1457\n",
      "6                2198\n",
      "7                 880\n",
      "8                 175\n",
      "9                   5\n"
     ]
    },
    {
     "data": {
      "image/png": "[encoded data removed]",
      "text/plain": [
       "<Figure size 900x500 with 1 Axes>"
      ]
     },
     "metadata": {},
     "output_type": "display_data"
    }
   ],
   "source": [
    "# --- 4. Visualization and Count of the Target Variable ('quality') ---\n",
    "print(\"\\n--- 4. Target Variable ('quality') Distribution Analysis ---\")\n",
    "\n",
    "# 1. Calculate the exact count for each quality score\n",
    "quality_counts = df_white['quality'].value_counts().sort_index()\n",
    "\n",
    "print(\"\\n** Sample Count per Quality Score **\")\n",
    "# Convert the Series to a DataFrame for cleaner table display\n",
    "quality_table = pd.DataFrame(quality_counts)\n",
    "quality_table.columns = ['Sample Count']\n",
    "print(quality_table)\n",
    "\n",
    "# 2. Visualization (Histogram)\n",
    "plt.figure(figsize=(9, 5))\n",
    "plt.hist(df_white['quality'], bins=range(3, 11), align='left', rwidth=0.8, color='skyblue', edgecolor='black')\n",
    "plt.title('Distribution of White Wine Quality Scores')\n",
    "plt.xlabel('Quality Score')\n",
    "plt.ylabel('Number of Samples')\n",
    "plt.show()"
   ]
  },
  {
   "cell_type": "code",
   "execution_count": 7,
   "id": "cda76299",
   "metadata": {},
   "outputs": [
    {
     "name": "stdout",
     "output_type": "stream",
     "text": [
      "\n",
      "--- 5. Feature Correlation with Quality ---\n",
      "quality                 1.000000\n",
      "alcohol                 0.435575\n",
      "pH                      0.099427\n",
      "sulphates               0.053678\n",
      "free sulfur dioxide     0.008158\n",
      "citric acid            -0.009209\n",
      "residual sugar         -0.097577\n",
      "fixed acidity          -0.113663\n",
      "total sulfur dioxide   -0.174737\n",
      "volatile acidity       -0.194723\n",
      "chlorides              -0.209934\n",
      "density                -0.307123\n",
      "Name: quality, dtype: float64\n"
     ]
    }
   ],
   "source": [
    "# --- 5. Correlation Analysis with the Target ---\n",
    "print(\"\\n--- 5. Feature Correlation with Quality ---\")\n",
    "# Calculate correlation, sort by relevance to 'quality'\n",
    "correlation_to_quality = df_white.corr()['quality'].sort_values(ascending=False)\n",
    "print(correlation_to_quality)"
   ]
  },
  {
   "cell_type": "markdown",
   "id": "bcf9574f",
   "metadata": {},
   "source": [
    "We can observe some features more correlated to quality than others. For instance, we k now that alcohol is gonna be important while citric acid might be impactless."
   ]
  }
 ],
 "metadata": {
  "kernelspec": {
   "display_name": "myenv",
   "language": "python",
   "name": "python3"
  },
  "language_info": {
   "codemirror_mode": {
    "name": "ipython",
    "version": 3
   },
   "file_extension": ".py",
   "mimetype": "text/x-python",
   "name": "python",
   "nbconvert_exporter": "python",
   "pygments_lexer": "ipython3",
   "version": "3.12.11"
  }
 },
 "nbformat": 4,
 "nbformat_minor": 5
}
